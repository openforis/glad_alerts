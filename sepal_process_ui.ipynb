{
 "cells": [
  {
   "cell_type": "code",
   "execution_count": null,
   "metadata": {},
   "outputs": [],
   "source": [
    "from functools import partial \n",
    "\n",
    "from sepal_ui import sepalwidgets as sw\n",
    "import ipyvuetify as v\n",
    "\n",
    "from scripts import sepal_process as sepal_run \n",
    "from utils import messages as ms\n",
    "from utils import parameters as pm"
   ]
  },
  {
   "cell_type": "code",
   "execution_count": null,
   "metadata": {},
   "outputs": [],
   "source": [
    "#class io as mutable object\n",
    "class Ga_sepal_io:\n",
    "    def __init__(self):\n",
    "        self.toto = None\n",
    "        \n",
    "ga_sepal_io = Ga_sepal_io()"
   ]
  },
  {
   "cell_type": "code",
   "execution_count": null,
   "metadata": {},
   "outputs": [],
   "source": [
    "#output \n",
    "ga_sepal_output = sw.Alert().add_msg(ms.SEPAL_INTRO)\n",
    "\n",
    "#btn \n",
    "ga_sepal_btn = sw.Btn(ms.SEPAL_BTN)\n",
    "\n",
    "#process output \n",
    "ga_oft_output = sw.Alert().add_msg(ms.NO_PROCESS)\n",
    "\n",
    "#tile \n",
    "id_ = 'sepal_widget'\n",
    "title = 'Postprocess'\n",
    "\n",
    "ga_sepal = sw.Tile(\n",
    "    id_,\n",
    "    title,\n",
    "    btn=ga_sepal_btn,\n",
    "    output=ga_sepal_output,\n",
    "    inputs=['']\n",
    ")\n",
    "\n",
    "#add the oft_output\n",
    "ga_sepal.children[0].children = ga_sepal.children[0].children + [ga_oft_output]"
   ]
  },
  {
   "cell_type": "code",
   "execution_count": null,
   "metadata": {},
   "outputs": [],
   "source": [
    "#create the tile with the links\n",
    "id_ = \"results_widget\"\n",
    "title = \"Results\"\n",
    "    \n",
    "ga_results = sw.Tile(id_, title, inputs=[''])"
   ]
  },
  {
   "cell_type": "code",
   "execution_count": null,
   "metadata": {},
   "outputs": [],
   "source": [
    "#defin a custom function \n",
    "\n",
    "def process_start (widget, event, data, output, oft_output):\n",
    "    \n",
    "    asset = getattr(ga_aoi_io, 'assetId')\n",
    "    year = getattr(ga_gee_io, 'year')\n",
    "    date_range = getattr(ga_gee_io, 'range')\n",
    "    \n",
    "    #toggle the loading button\n",
    "    widget.toggle_loading()\n",
    "    \n",
    "    #check inputs\n",
    "    if not output.check_input(asset, ms.NO_AOI): return widget.toggle_loading()\n",
    "    if not output.check_input(year, ms.NO_YEAR): return widget.toggle_loading()\n",
    "    if not output.check_input(date_range, ms.NO_YEAR): return widget.toggle_loading()\n",
    "    \n",
    "    try:\n",
    "        alerts_link, stats_link = sepal_run.sepal_process(asset, year, date_range, output, oft_output)\n",
    "        \n",
    "        if alerts_link:\n",
    "            #display the layout in the tile\n",
    "            layout = sepal_run.display_results(asset, year, date_range, alerts_link)\n",
    "            ga_results.children[0].children = [ga_results.children[0].children[0]] + layout\n",
    "    \n",
    "    except Exception as e: \n",
    "        alerts_link = None\n",
    "        output.add_live_msg(str(e), 'error')\n",
    "    \n",
    "    #toggle the loading button\n",
    "    widget.toggle_loading()\n",
    "    \n",
    "    return \n",
    "\n",
    "ga_sepal_btn.on_event('click', partial(\n",
    "    process_start, \n",
    "    output = ga_sepal_output,\n",
    "    oft_output = ga_oft_output\n",
    "))"
   ]
  },
  {
   "cell_type": "code",
   "execution_count": null,
   "metadata": {
    "scrolled": false
   },
   "outputs": [],
   "source": [
    "ga_sepal"
   ]
  },
  {
   "cell_type": "code",
   "execution_count": null,
   "metadata": {},
   "outputs": [],
   "source": [
    "ga_results"
   ]
  }
 ],
 "metadata": {
  "kernelspec": {
   "display_name": "Python 3",
   "language": "python",
   "name": "python3"
  },
  "language_info": {
   "codemirror_mode": {
    "name": "ipython",
    "version": 3
   },
   "file_extension": ".py",
   "mimetype": "text/x-python",
   "name": "python",
   "nbconvert_exporter": "python",
   "pygments_lexer": "ipython3",
   "version": "3.6.9"
  }
 },
 "nbformat": 4,
 "nbformat_minor": 4
}
