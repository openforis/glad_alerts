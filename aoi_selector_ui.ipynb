{
 "cells": [
  {
   "cell_type": "code",
   "execution_count": 1,
   "metadata": {},
   "outputs": [
    {
     "data": {
      "application/vnd.jupyter.widget-view+json": {
       "model_id": "0790cd9e31d343b781f82d3d8f4b5812",
       "version_major": 2,
       "version_minor": 0
      },
      "text/plain": [
       "Layout(children=[Card(children=[Html(children=['AOI selection'], tag='h2'), Layout(children=[Flex(children=[La…"
      ]
     },
     "metadata": {},
     "output_type": "display_data"
    }
   ],
   "source": [
    "from sepal_ui import widgetFactory as wf\n",
    "\n",
    "#create the asset variable object \n",
    "ga_aoi_io = wf.Aoi_IO()\n",
    "\n",
    "#create the tile \n",
    "ga_aoi = wf.TileAOI(ga_aoi_io)\n",
    "\n",
    "#this tile will only be displayed if voila is launch from this notebook \n",
    "ga_aoi"
   ]
  },
  {
   "cell_type": "code",
   "execution_count": 2,
   "metadata": {},
   "outputs": [],
   "source": [
    "ga_aoi_io.assetId"
   ]
  },
  {
   "cell_type": "code",
   "execution_count": null,
   "metadata": {},
   "outputs": [],
   "source": []
  }
 ],
 "metadata": {
  "kernelspec": {
   "display_name": "Python 3",
   "language": "python",
   "name": "python3"
  },
  "language_info": {
   "codemirror_mode": {
    "name": "ipython",
    "version": 3
   },
   "file_extension": ".py",
   "mimetype": "text/x-python",
   "name": "python",
   "nbconvert_exporter": "python",
   "pygments_lexer": "ipython3",
   "version": "3.6.9"
  }
 },
 "nbformat": 4,
 "nbformat_minor": 4
}
