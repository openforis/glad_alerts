{
 "cells": [
  {
   "cell_type": "code",
   "execution_count": null,
   "metadata": {},
   "outputs": [],
   "source": [
    "%%capture\n",
    "import sys\n",
    "!{sys.executable} -m pip install --upgrade sepal-ui"
   ]
  },
  {
   "cell_type": "code",
   "execution_count": null,
   "metadata": {},
   "outputs": [],
   "source": [
    "from sepal_ui import sepalwidgets as sw"
   ]
  },
  {
   "cell_type": "code",
   "execution_count": null,
   "metadata": {},
   "outputs": [],
   "source": [
    "#create an appBar \n",
    "ga_appBar = sw.AppBar('GLAD alert module')"
   ]
  },
  {
   "cell_type": "code",
   "execution_count": null,
   "metadata": {},
   "outputs": [],
   "source": [
    "#create a footer \n",
    "ga_footer = sw.Footer()"
   ]
  },
  {
   "cell_type": "code",
   "execution_count": null,
   "metadata": {},
   "outputs": [],
   "source": [
    "#add tiles \n",
    "%run 'aoi_selector_ui.ipynb'\n",
    "%run 'gee_process_ui.ipynb'\n",
    "%run 'sepal_process_ui.ipynb'\n",
    "%run 'about_ui.ipynb'\n",
    "\n",
    "ga_content = [\n",
    "    ga_aoi,\n",
    "    ga_gee,\n",
    "    ga_sepal,\n",
    "    ga_results,\n",
    "    ga_about,\n",
    "    ga_disclaimer\n",
    "]"
   ]
  },
  {
   "cell_type": "code",
   "execution_count": null,
   "metadata": {},
   "outputs": [],
   "source": [
    "#create a drawer \n",
    "item_aoi = sw.DrawerItem('AOI selection', 'mdi-map-marker-check', card=\"aoi_widget\").display_tile(ga_content)\n",
    "item_gee = sw.DrawerItem('Retrieve alerts', 'mdi-cogs', card=\"gee_widget\").display_tile(ga_content)\n",
    "item_sepal = sw.DrawerItem('Postprocess', 'mdi-export', card=\"sepal_widget\").display_tile(ga_content)\n",
    "item_result = sw.DrawerItem('Results', 'mdi-chart-bar', card=\"results_widget\").display_tile(ga_content)\n",
    "item_about = sw.DrawerItem('About', 'mdi-help-circle', card=\"about_widget\").display_tile(ga_content)\n",
    "\n",
    "code_link = \"https://github.com/openforis/glad_alerts\"\n",
    "wiki_link = \"https://github.com/openforis/glad_alerts/blob/master/doc/doc.md\"\n",
    "issue_link = \"https://github.com/openforis/glad_alerts/issues/new/choose\"\n",
    "\n",
    "items = [\n",
    "    item_aoi,\n",
    "    item_gee,\n",
    "    item_sepal,\n",
    "    item_result,\n",
    "    item_about\n",
    "]\n",
    "\n",
    "ga_drawer = sw.NavDrawer(items, code = code_link, wiki = wiki_link, issue = issue_link).display_drawer(ga_appBar.toggle_button)"
   ]
  },
  {
   "cell_type": "code",
   "execution_count": null,
   "metadata": {},
   "outputs": [],
   "source": [
    "#build the app \n",
    "ga_app = sw.App(\n",
    "    tiles=ga_content, \n",
    "    appBar=ga_appBar, \n",
    "    footer=ga_footer, \n",
    "    navDrawer=ga_drawer\n",
    ").show_tile('aoi_widget')"
   ]
  },
  {
   "cell_type": "code",
   "execution_count": null,
   "metadata": {},
   "outputs": [],
   "source": [
    "#display the app\n",
    "ga_app"
   ]
  }
 ],
 "metadata": {
  "kernelspec": {
   "display_name": "Python 3",
   "language": "python",
   "name": "python3"
  },
  "language_info": {
   "codemirror_mode": {
    "name": "ipython",
    "version": 3
   },
   "file_extension": ".py",
   "mimetype": "text/x-python",
   "name": "python",
   "nbconvert_exporter": "python",
   "pygments_lexer": "ipython3",
   "version": "3.6.9"
  }
 },
 "nbformat": 4,
 "nbformat_minor": 4
}
