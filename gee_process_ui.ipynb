{
 "cells": [
  {
   "cell_type": "code",
   "execution_count": null,
   "metadata": {},
   "outputs": [],
   "source": [
    "from functools import partial \n",
    "\n",
    "from sepal_ui import sepalwidgets as sw\n",
    "import ipyvuetify as v\n",
    "\n",
    "from scripts import gee_process as gee_run \n",
    "from utils import messages as ms\n",
    "from utils import parameters as pm"
   ]
  },
  {
   "cell_type": "code",
   "execution_count": null,
   "metadata": {},
   "outputs": [],
   "source": [
    "#class io as mutable object \n",
    "class Ga_gee_io:\n",
    "    def __init__(self):\n",
    "        #input \n",
    "        self.year = 2020\n",
    "        self.range = ['2020-01-01', '2020-12-31']\n",
    "        \n",
    "ga_gee_io = Ga_gee_io()"
   ]
  },
  {
   "cell_type": "code",
   "execution_count": null,
   "metadata": {},
   "outputs": [],
   "source": [
    "#output \n",
    "ga_gee_output = sw.Alert().add_msg(ms.GEE_INTRO)"
   ]
  },
  {
   "cell_type": "code",
   "execution_count": null,
   "metadata": {},
   "outputs": [],
   "source": [
    "from datetime import datetime\n",
    "\n",
    "#custom date slider\n",
    "ga_range_slider = v.RangeSlider(\n",
    "    label='Select date range',\n",
    "    class_=\"mt-6\", \n",
    "    thumb_label='always', \n",
    "    v_model=[1,365],\n",
    "    min=1,\n",
    "    max=366,\n",
    "    v_slots=[{\n",
    "        'name': 'thumb_label',\n",
    "        'variable': 'slider',\n",
    "        'children' : 'slider.value'\n",
    "    }]\n",
    ")\n",
    "def edit_display(widget, event, data, output):\n",
    "    \n",
    "    year = getattr(ga_gee_io, 'year')\n",
    "    \n",
    "    start = widget.v_model[0]\n",
    "    start = '{0}{1:03}'.format(str(year%100), start)\n",
    "    start = datetime.strptime(start, '%y%j')\n",
    "    start = start.strftime(\"%Y-%m-%d\")\n",
    "    \n",
    "    end = widget.v_model[1]\n",
    "    end = '{0}{1:03}'.format(str(year%100), end)\n",
    "    end = datetime.strptime(end, '%y%j')\n",
    "    end = end.strftime(\"%Y-%m-%d\")\n",
    "    \n",
    "    setattr(ga_gee_io, 'range', [start, end])\n",
    "    output.add_msg('Value Selected: {}'.format(ga_gee_io.range))\n",
    "    \n",
    "    return    \n",
    "    \n",
    "ga_range_slider.on_event('change', partial(\n",
    "    edit_display,\n",
    "    output=ga_gee_output\n",
    "))"
   ]
  },
  {
   "cell_type": "code",
   "execution_count": null,
   "metadata": {},
   "outputs": [],
   "source": [
    "#year selector \n",
    "ga_year = v.Select(items=pm.getAvailableYear(), label=ms.GEE_SELECT, v_model=2020)\n",
    "\n",
    "#custom binding \n",
    "def reset_range(slider, output):\n",
    "    year = getattr(ga_gee_io, 'year')\n",
    "    \n",
    "    slider.v_model = [1,365]\n",
    "    \n",
    "    start = '{0}{1:03}'.format(str(year%100), 1)\n",
    "    start = datetime.strptime(start, '%y%j')\n",
    "    start = start.strftime(\"%Y-%m-%d\")\n",
    "    \n",
    "    end = '{0}{1:03}'.format(str(year%100), 365)\n",
    "    end = datetime.strptime(end, '%y%j')\n",
    "    end = end.strftime(\"%Y-%m-%d\")\n",
    "    \n",
    "    setattr(ga_gee_io, 'range', [start, end])\n",
    "    output.add_msg('Value Selected: {}'.format(ga_gee_io.range))\n",
    "    \n",
    "    return\n",
    "\n",
    "def change_year(widget, event, data, output, slider):\n",
    "    \n",
    "    setattr(ga_gee_io, 'year', widget.v_model)\n",
    "    output.add_msg('Value Selected: {}'.format(ga_gee_io.year))\n",
    "    \n",
    "    reset_range(slider, output)\n",
    "    \n",
    "    return \n",
    "\n",
    "ga_year.on_event('change', partial(\n",
    "    change_year,\n",
    "    slider=ga_range_slider,\n",
    "    output=ga_gee_output\n",
    "))"
   ]
  },
  {
   "cell_type": "code",
   "execution_count": null,
   "metadata": {},
   "outputs": [],
   "source": [
    "#btn \n",
    "ga_gee_btn = sw.Btn(ms.GEE_BTN)\n",
    "\n",
    "#tile\n",
    "id_ = 'gee_widget'\n",
    "title = 'Retrieve alerts'\n",
    "\n",
    "ga_gee = sw.Tile(\n",
    "    id_,\n",
    "    title,\n",
    "    btn=ga_gee_btn,\n",
    "    output=ga_gee_output,\n",
    "    inputs=[ga_year, ga_range_slider]\n",
    ")"
   ]
  },
  {
   "cell_type": "code",
   "execution_count": null,
   "metadata": {},
   "outputs": [],
   "source": [
    "#create a custom function for the process\n",
    "def process_start(widget, event, data, output):\n",
    "    \n",
    "    asset = getattr(ga_aoi_io, 'assetId')\n",
    "    year = getattr(ga_gee_io, 'year')\n",
    "    date_range = getattr(ga_gee_io, 'range')\n",
    "    \n",
    "    #toggle the loading button\n",
    "    widget.toggle_loading()\n",
    "    \n",
    "    output.add_msg(asset)\n",
    "    \n",
    "    #check inputs\n",
    "    if not output.check_input(asset, ms.NO_AOI): return widget.toggle_loading()\n",
    "    if not output.check_input(year, ms.NO_YEAR): return widget.toggle_loading()\n",
    "    if not output.check_input(date_range, ms.NO_YEAR): return widget.toggle_loading()\n",
    "\n",
    "    try:\n",
    "        gee_run.gee_process(asset, date_range, year, output) \n",
    "    except Exception as e: \n",
    "        output.add_live_msg(str(e), 'error')\n",
    "    \n",
    "    #toggle the loading button\n",
    "    widget.toggle_loading()\n",
    "    \n",
    "    return \n",
    "\n",
    "ga_gee_btn.on_event('click', partial(\n",
    "    process_start,\n",
    "    output=ga_gee_output,\n",
    "))\n",
    "    "
   ]
  },
  {
   "cell_type": "code",
   "execution_count": null,
   "metadata": {
    "scrolled": false
   },
   "outputs": [],
   "source": [
    "ga_gee"
   ]
  },
  {
   "cell_type": "code",
   "execution_count": null,
   "metadata": {},
   "outputs": [],
   "source": []
  }
 ],
 "metadata": {
  "kernelspec": {
   "display_name": "Python 3",
   "language": "python",
   "name": "python3"
  },
  "language_info": {
   "codemirror_mode": {
    "name": "ipython",
    "version": 3
   },
   "file_extension": ".py",
   "mimetype": "text/x-python",
   "name": "python",
   "nbconvert_exporter": "python",
   "pygments_lexer": "ipython3",
   "version": "3.6.9"
  }
 },
 "nbformat": 4,
 "nbformat_minor": 4
}
