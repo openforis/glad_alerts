{
 "cells": [
  {
   "cell_type": "code",
   "execution_count": 1,
   "metadata": {},
   "outputs": [],
   "source": [
    "from functools import partial \n",
    "\n",
    "from sepal_ui import widgetFactory as wf\n",
    "from sepal_ui import widgetBinding as wb\n",
    "from sepal_ui.scripts import utils as su\n",
    "import ipyvuetify as v\n",
    "\n",
    "from scripts import gee_process as gee_run \n",
    "from utils import messages as ms\n",
    "from utils import parameters as pm"
   ]
  },
  {
   "cell_type": "code",
   "execution_count": 2,
   "metadata": {},
   "outputs": [],
   "source": [
    "#class io as mutable object \n",
    "class Ga_gee_io:\n",
    "    def __init__(self):\n",
    "        #input \n",
    "        self.year = 2020\n",
    "        self.range = ['2020-01-01', '2020-12-31']\n",
    "        \n",
    "ga_gee_io = Ga_gee_io()"
   ]
  },
  {
   "cell_type": "code",
   "execution_count": 3,
   "metadata": {},
   "outputs": [],
   "source": [
    "#output \n",
    "ga_gee_output = wf.OutputWidget(ms.GEE_INTRO)"
   ]
  },
  {
   "cell_type": "code",
   "execution_count": 4,
   "metadata": {},
   "outputs": [],
   "source": [
    "from datetime import datetime\n",
    "\n",
    "def print_value(data):\n",
    "    print(data.value)\n",
    "\n",
    "#custom date slider\n",
    "ga_range_slider = v.RangeSlider(\n",
    "    label='Select date range',\n",
    "    class_=\"mt-6\", \n",
    "    thumb_label='always', \n",
    "    v_model=[1,365],\n",
    "    min=1,\n",
    "    max=366,\n",
    "    v_slots=[{\n",
    "        'name': 'thumb_label',\n",
    "        'variable': 'slider',\n",
    "        'children' : 'slider.value'\n",
    "    }]\n",
    ")\n",
    "def edit_display(widget, event, data, output):\n",
    "    \n",
    "    year = getattr(ga_gee_io, 'year')\n",
    "    \n",
    "    start = widget.v_model[0]\n",
    "    start = '{0}{1:03}'.format(str(year%100), start)\n",
    "    start = datetime.strptime(start, '%y%j')\n",
    "    start = start.strftime(\"%Y-%m-%d\")\n",
    "    \n",
    "    end = widget.v_model[1]\n",
    "    end = '{0}{1:03}'.format(str(year%100), end)\n",
    "    end = datetime.strptime(end, '%y%j')\n",
    "    end = end.strftime(\"%Y-%m-%d\")\n",
    "    \n",
    "    setattr(ga_gee_io, 'range', [start, end])\n",
    "    su.displayIO(output, 'Value Selected: {}'.format(ga_gee_io.range))\n",
    "    \n",
    "    return    \n",
    "    \n",
    "ga_range_slider.on_event('change', partial(\n",
    "    edit_display,\n",
    "    output=ga_gee_output\n",
    "))"
   ]
  },
  {
   "cell_type": "code",
   "execution_count": 5,
   "metadata": {},
   "outputs": [],
   "source": [
    "#year selector \n",
    "ga_year = v.Select(items=pm.getAvailableYear(), label=ms.GEE_SELECT, v_model=2020)\n",
    "\n",
    "\n",
    "\n",
    "#custom binding \n",
    "def reset_range(slider, output):\n",
    "    year = getattr(ga_gee_io, 'year')\n",
    "    \n",
    "    slider.v_model = [1,365]\n",
    "    \n",
    "    start = '{0}{1:03}'.format(str(year%100), 1)\n",
    "    start = datetime.strptime(start, '%y%j')\n",
    "    start = start.strftime(\"%Y-%m-%d\")\n",
    "    \n",
    "    end = '{0}{1:03}'.format(str(year%100), 365)\n",
    "    end = datetime.strptime(end, '%y%j')\n",
    "    end = end.strftime(\"%Y-%m-%d\")\n",
    "    \n",
    "    setattr(ga_gee_io, 'range', [start, end])\n",
    "    su.displayIO(output, 'Value Selected: {}'.format(ga_gee_io.range))\n",
    "    \n",
    "    return\n",
    "\n",
    "def change_year(widget, event, data, output, slider):\n",
    "    \n",
    "    setattr(ga_gee_io, 'year', widget.v_model)\n",
    "    su.displayIO(output, 'Value Selected: {}'.format(ga_gee_io.year))\n",
    "    \n",
    "    reset_range(slider, output)\n",
    "    \n",
    "    return \n",
    "\n",
    "ga_year.on_event('change', partial(\n",
    "    change_year,\n",
    "    slider=ga_range_slider,\n",
    "    output=ga_gee_output\n",
    "))"
   ]
  },
  {
   "cell_type": "code",
   "execution_count": 6,
   "metadata": {},
   "outputs": [],
   "source": [
    "#btn \n",
    "ga_gee_btn = wf.ProcessBtn(ms.GEE_BTN)\n",
    "\n",
    "#tile\n",
    "id_ = 'gee_widget'\n",
    "title = 'Retrieve alerts'\n",
    "\n",
    "ga_gee = wf.Tile(\n",
    "    id_,\n",
    "    title,\n",
    "    btn=ga_gee_btn,\n",
    "    output=ga_gee_output,\n",
    "    inputs=[ga_year, ga_range_slider]\n",
    ")"
   ]
  },
  {
   "cell_type": "code",
   "execution_count": 7,
   "metadata": {},
   "outputs": [],
   "source": [
    "#create a custom function for the process\n",
    "def process_start(widget, event, data, output):\n",
    "    \n",
    "    asset = getattr(ga_aoi_io, 'assetId')\n",
    "    year = getattr(ga_gee_io, 'year')\n",
    "    date_range = getattr(ga_gee_io, 'range')\n",
    "    \n",
    "    #toggle the loading button\n",
    "    su.toggleLoading(widget)\n",
    "    \n",
    "    su.displayIO(output, asset)\n",
    "    \n",
    "    #check inputs\n",
    "    if not wb.checkInput(asset, output, ms.NO_AOI): return su.toggleLoading(widget)\n",
    "    if not wb.checkInput(year, output, ms.NO_YEAR): return su.toggleLoading(widget)\n",
    "    if not wb.checkInput(date_range, output, ms.NO_YEAR): return su.toggleLoading(widget)\n",
    "\n",
    "    try:\n",
    "        gee_run.gee_process(asset, date_range, year, output) \n",
    "    except Exception as e: \n",
    "        su.displayIO(output, str(e), 'error')\n",
    "    \n",
    "    #toggle the loading button\n",
    "    su.toggleLoading(widget)\n",
    "    \n",
    "    return \n",
    "\n",
    "ga_gee_btn.on_event('click', partial(\n",
    "    process_start,\n",
    "    output=ga_gee_output,\n",
    "))\n",
    "    "
   ]
  },
  {
   "cell_type": "code",
   "execution_count": 8,
   "metadata": {
    "scrolled": false
   },
   "outputs": [
    {
     "data": {
      "application/vnd.jupyter.widget-view+json": {
       "model_id": "993b7ac426694251b3572061e015eb34",
       "version_major": 2,
       "version_minor": 0
      },
      "text/plain": [
       "Layout(align_center=True, children=[Card(children=[Html(children=['Retrieve alerts'], tag='h2'), Flex(children…"
      ]
     },
     "metadata": {},
     "output_type": "display_data"
    }
   ],
   "source": [
    "ga_gee"
   ]
  },
  {
   "cell_type": "code",
   "execution_count": null,
   "metadata": {},
   "outputs": [],
   "source": []
  }
 ],
 "metadata": {
  "kernelspec": {
   "display_name": "Python 3",
   "language": "python",
   "name": "python3"
  },
  "language_info": {
   "codemirror_mode": {
    "name": "ipython",
    "version": 3
   },
   "file_extension": ".py",
   "mimetype": "text/x-python",
   "name": "python",
   "nbconvert_exporter": "python",
   "pygments_lexer": "ipython3",
   "version": "3.6.9"
  }
 },
 "nbformat": 4,
 "nbformat_minor": 4
}
